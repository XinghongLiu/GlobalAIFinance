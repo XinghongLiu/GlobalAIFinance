{
 "cells": [
  {
   "cell_type": "code",
   "execution_count": 2,
   "metadata": {},
   "outputs": [
    {
     "ename": "ModuleNotFoundError",
     "evalue": "No module named 'plotly.graph_objects'",
     "output_type": "error",
     "traceback": [
      "\u001b[1;31m---------------------------------------------------------------------------\u001b[0m",
      "\u001b[1;31mModuleNotFoundError\u001b[0m                       Traceback (most recent call last)",
      "\u001b[1;32m<ipython-input-2-d40a14c48dcc>\u001b[0m in \u001b[0;36m<module>\u001b[1;34m()\u001b[0m\n\u001b[1;32m----> 1\u001b[1;33m \u001b[1;32mimport\u001b[0m \u001b[0mplotly\u001b[0m\u001b[1;33m.\u001b[0m\u001b[0mgraph_objects\u001b[0m \u001b[1;32mas\u001b[0m \u001b[0mgo\u001b[0m\u001b[1;33m\u001b[0m\u001b[0m\n\u001b[0m\u001b[0;32m      2\u001b[0m \u001b[1;33m\u001b[0m\u001b[0m\n\u001b[0;32m      3\u001b[0m fig = go.Figure(data=go.Pie(\n\u001b[0;32m      4\u001b[0m     \u001b[0mvalues\u001b[0m\u001b[1;33m=\u001b[0m\u001b[1;33m[\u001b[0m\u001b[1;36m50\u001b[0m\u001b[1;33m,\u001b[0m \u001b[1;36m10\u001b[0m\u001b[1;33m,\u001b[0m \u001b[1;36m10\u001b[0m\u001b[1;33m,\u001b[0m \u001b[1;36m10\u001b[0m\u001b[1;33m,\u001b[0m \u001b[1;36m10\u001b[0m\u001b[1;33m,\u001b[0m \u001b[1;36m10\u001b[0m\u001b[1;33m]\u001b[0m\u001b[1;33m,\u001b[0m\u001b[1;33m\u001b[0m\u001b[0m\n\u001b[0;32m      5\u001b[0m     \u001b[0mlabels\u001b[0m\u001b[1;33m=\u001b[0m\u001b[1;33m[\u001b[0m\u001b[1;34m\"Log Level\"\u001b[0m\u001b[1;33m,\u001b[0m \u001b[1;34m\"Debug\"\u001b[0m\u001b[1;33m,\u001b[0m \u001b[1;34m\"Info\"\u001b[0m\u001b[1;33m,\u001b[0m \u001b[1;34m\"Warn\"\u001b[0m\u001b[1;33m,\u001b[0m \u001b[1;34m\"Error\"\u001b[0m\u001b[1;33m,\u001b[0m \u001b[1;34m\"Fatal\"\u001b[0m\u001b[1;33m]\u001b[0m\u001b[1;33m,\u001b[0m\u001b[1;33m\u001b[0m\u001b[0m\n",
      "\u001b[1;31mModuleNotFoundError\u001b[0m: No module named 'plotly.graph_objects'"
     ]
    }
   ],
   "source": [
    "import plotly.graph_objects as go\n",
    "\n",
    "fig = go.Figure(data=go.Pie(\n",
    "    values=[50, 10, 10, 10, 10, 10],\n",
    "    labels=[\"Log Level\", \"Debug\", \"Info\", \"Warn\", \"Error\", \"Fatal\"],\n",
    "    domain={\"x\": [0, .48]},\n",
    "    marker_colors=[\n",
    "            'rgb(255, 255, 255)',\n",
    "            'rgb(232,226,202)',\n",
    "            'rgb(226,210,172)',\n",
    "            'rgb(223,189,139)',\n",
    "            'rgb(223,162,103)',\n",
    "            'rgb(226,126,64)'\n",
    "        ],\n",
    "    name=\"Gauge\",\n",
    "    hole=.3,\n",
    "    direction=\"clockwise\",\n",
    "    rotation=90,\n",
    "    showlegend=False,\n",
    "    hoverinfo=\"none\",\n",
    "    textinfo=\"label\",\n",
    "    textposition=\"inside\"\n",
    "))\n",
    "\n",
    "# For numerical labels\n",
    "fig.add_trace(go.Pie(\n",
    "    values=[40, 10, 10, 10, 10, 10, 10],\n",
    "    labels=[\"-\", \"0\", \"20\", \"40\", \"60\", \"80\", \"100\"],\n",
    "    domain={\"x\": [0, .48]},\n",
    "    marker_colors=['rgba(255, 255, 255, 0)']*7,\n",
    "    hole=.4,\n",
    "    direction=\"clockwise\",\n",
    "    rotation=108,\n",
    "    showlegend=False,\n",
    "    hoverinfo=\"none\",\n",
    "    textinfo=\"label\",\n",
    "    textposition=\"outside\"\n",
    "))\n",
    "\n",
    "fig.update_layout(\n",
    "    xaxis=dict(\n",
    "        showticklabels=False,\n",
    "        showgrid=False,\n",
    "        zeroline=False,\n",
    "    ),\n",
    "    yaxis=dict(\n",
    "        showticklabels=False,\n",
    "        showgrid=False,\n",
    "        zeroline=False,\n",
    "    ),\n",
    "    shapes=[dict(\n",
    "                type='path',\n",
    "                path='M 0.235 0.5 L 0.24 0.65 L 0.245 0.5 Z',\n",
    "                fillcolor='rgba(44, 160, 101, 0.5)',\n",
    "                line_width=0.5,\n",
    "                xref='paper',\n",
    "                yref='paper')\n",
    "    ],\n",
    "    annotations=[\n",
    "        dict(xref='paper',\n",
    "             yref='paper',\n",
    "             x=0.23,\n",
    "             y=0.45,\n",
    "            text='50',\n",
    "            showarrow=False\n",
    "        )\n",
    "    ]\n",
    ")\n",
    "\n",
    "fig.show()"
   ]
  }
 ],
 "metadata": {
  "kernelspec": {
   "display_name": "Python 3",
   "language": "python",
   "name": "python3"
  },
  "language_info": {
   "codemirror_mode": {
    "name": "ipython",
    "version": 3
   },
   "file_extension": ".py",
   "mimetype": "text/x-python",
   "name": "python",
   "nbconvert_exporter": "python",
   "pygments_lexer": "ipython3",
   "version": "3.6.5"
  }
 },
 "nbformat": 4,
 "nbformat_minor": 2
}
